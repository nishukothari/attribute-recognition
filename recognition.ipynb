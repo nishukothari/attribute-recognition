{
 "metadata": {
  "language_info": {
   "codemirror_mode": {
    "name": "ipython",
    "version": 3
   },
   "file_extension": ".py",
   "mimetype": "text/x-python",
   "name": "python",
   "nbconvert_exporter": "python",
   "pygments_lexer": "ipython3",
   "version": "3.8.2-final"
  },
  "orig_nbformat": 2,
  "kernelspec": {
   "name": "python3",
   "display_name": "Python 3"
  }
 },
 "nbformat": 4,
 "nbformat_minor": 2,
 "cells": [
  {
   "cell_type": "code",
   "execution_count": 3,
   "metadata": {},
   "outputs": [],
   "source": [
    "import torch\n",
    "import torch.utils.data.dataset as td\n",
    "from torchvision import transforms\n",
    "import numpy as np\n",
    "import cv2\n",
    "import os\n",
    "from PIL import Image"
   ]
  },
  {
   "cell_type": "code",
   "execution_count": 12,
   "metadata": {},
   "outputs": [],
   "source": [
    "class CompCarDataset(td.Dataset):\n",
    "    def __init__(self, speed, train):\n",
    "        postfix1 = \"train\" if train else \"test\"\n",
    "        postfix2 = \"speed\" if speed else \"type\"\n",
    "\n",
    "        self.transform = transforms.Compose([\n",
    "            transforms.ToTensor(),\n",
    "            transforms.Normalize()\n",
    "        ])\n",
    "\n",
    "        self.path_image = \"comp-cars/\" + postfix1 + \"/images\"\n",
    "        self.path_label = \"comp-cars/\" + postfix1 + \"/\" + postfix2\n",
    "\n",
    "        self.images = os.listdir(os.path.join(self.path_image))\n",
    "        self.labels = os.listdir(os.path.join(self.path_label))\n",
    "        self.images.sort()\n",
    "        self.labels.sort()\n",
    "    \n",
    "    def __len__(self):\n",
    "        return len(self.images)\n",
    "    \n",
    "    def __getitem__(self, idx):\n",
    "        imagefile = os.path.join(self.path_image, self.images[idx])\n",
    "        labelfile = os.path.join(self.path_label, self.labels[idx])\n",
    "        img = cv2.imread(imagefile)\n",
    "        return img\n"
   ]
  }
 ]
}