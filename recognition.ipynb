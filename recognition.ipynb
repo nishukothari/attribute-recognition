{
 "metadata": {
  "language_info": {
   "codemirror_mode": {
    "name": "ipython",
    "version": 3
   },
   "file_extension": ".py",
   "mimetype": "text/x-python",
   "name": "python",
   "nbconvert_exporter": "python",
   "pygments_lexer": "ipython3",
   "version": "3.8.2-final"
  },
  "orig_nbformat": 2,
  "kernelspec": {
   "name": "python3",
   "display_name": "Python 3"
  }
 },
 "nbformat": 4,
 "nbformat_minor": 2,
 "cells": [
  {
   "cell_type": "code",
   "execution_count": 14,
   "metadata": {},
   "outputs": [],
   "source": [
    "import torch\n",
    "import torch.nn as nn\n",
    "import torch.nn.functional as F\n",
    "import torch.utils.data.dataset as td\n",
    "import matplotlib.pyplot as plt\n",
    "from torchvision import transforms\n",
    "from torchsummary import summary\n",
    "import numpy as np\n",
    "import cv2\n",
    "import os\n",
    "import math"
   ]
  },
  {
   "cell_type": "code",
   "execution_count": 2,
   "metadata": {},
   "outputs": [],
   "source": [
    "class CompCarDataset(td.Dataset):\n",
    "    def __init__(self, train):\n",
    "        postfix1 = \"train\" if train else \"test\"\n",
    "\n",
    "        mean = [0.4695975, 0.47956536, 0.49133955] # Caclulated using the training set\n",
    "        std = [0.07418917, 0.0721986, 0.07223192] # Calculated using the training set\n",
    "\n",
    "        self.transform = transforms.Compose([\n",
    "            transforms.ToTensor(),\n",
    "            transforms.Normalize(mean, std),\n",
    "            transforms.Pad((0, 121)),\n",
    "            transforms.Resize((224, 224))\n",
    "        ])\n",
    "\n",
    "        self.path_image = \"comp-cars/\" + postfix1 + \"/images\"\n",
    "        self.path_speed = \"comp-cars/\" + postfix1 + \"/speed\"\n",
    "        self.path_type = \"comp-cars/\" + postfix1 + \"/type\"\n",
    "\n",
    "        self.images = os.listdir(os.path.join(self.path_image))\n",
    "        self.labels_speed = os.listdir(os.path.join(self.path_speed))\n",
    "        self.labels_type = os.listdir(os.path.join(self.path_type))\n",
    "        self.images.sort()\n",
    "        self.labels_speed.sort()\n",
    "        self.labels_type.sort()\n",
    "    \n",
    "    def __len__(self):\n",
    "        return len(self.images)\n",
    "    \n",
    "    def __getitem__(self, idx):\n",
    "        imagefile = os.path.join(self.path_image, self.images[idx])\n",
    "        speedfile = open(os.path.join(self.path_speed, self.labels_speed[idx]), \"r\")\n",
    "        typefile = open(os.path.join(self.path_type, self.labels_type[idx]), \"r\")\n",
    "        img = self.transform(cv2.imread(imagefile))\n",
    "        spd = float(speedfile.read())\n",
    "        typ = int(typefile.read())\n",
    "        lbl = torch.zeros(24)\n",
    "        lbl[typ - 1] = 1\n",
    "        lbl[12 + math.floor((spd - 100)/(20))] = 1\n",
    "        return img, lbl, spd\n"
   ]
  },
  {
   "cell_type": "code",
   "execution_count": 29,
   "metadata": {},
   "outputs": [],
   "source": [
    "class BasicBlockResNet(nn.Module):\n",
    "    def __init__(self, channels_in, channels_out, size_change):\n",
    "        super().__init__()\n",
    "\n",
    "        self.size_change = size_change\n",
    "\n",
    "        self.activation = nn.ReLU()\n",
    "\n",
    "        self.layers = nn.Sequential(\n",
    "            nn.Conv2d(channels_in, channels_out, kernel_size=(3, 3), stride=(1, 1), padding=(1, 1)),\n",
    "            nn.BatchNorm2d(channels_out),\n",
    "            nn.ReLU(),\n",
    "            nn.Conv2d(channels_out, channels_out, kernel_size=(3, 3), stride=(1, 1), padding=(1, 1)),\n",
    "            nn.BatchNorm2d(channels_out)\n",
    "        )\n",
    "\n",
    "        self.resizing = nn.Sequential(\n",
    "            nn.Conv2d(channels_in, channels_out, kernel_size=(1, 1), stride=(1, 1)),\n",
    "            nn.BatchNorm2d(channels_out)\n",
    "        )\n",
    "\n",
    "    def forward(self, x):\n",
    "        residual = x\n",
    "        x = self.layers(x)\n",
    "        if self.size_change:\n",
    "            residual = self.resizing(residual)\n",
    "        #x += residual\n",
    "        x = self.activation(x)\n",
    "        return x"
   ]
  },
  {
   "cell_type": "code",
   "execution_count": 22,
   "metadata": {},
   "outputs": [],
   "source": [
    "#Final Tensor needs to be of Length 24 (12 car types, and 12 speed zones)\n",
    "class ResNet18(nn.Module):\n",
    "    def __init__(self, channels_in, sizes=[64, 128, 256, 512], num_classes=24):\n",
    "        super().__init__()\n",
    "\n",
    "        self.first_layer = nn.Sequential(\n",
    "            nn.Conv2d(channels_in, sizes[0], kernel_size=(7, 7), stride=(2, 2), padding=3),\n",
    "            nn.BatchNorm2d(sizes[0]),\n",
    "            nn.ReLU(),\n",
    "            nn.MaxPool2d(kernel_size=(3, 3), stride=(2, 2), padding=1)\n",
    "        )\n",
    "\n",
    "        self.middle_layers = nn.Sequential(\n",
    "            BasicBlockResNet(sizes[0], sizes[0], False),\n",
    "            BasicBlockResNet(sizes[0], sizes[0], False),\n",
    "            BasicBlockResNet(sizes[0], sizes[1], True),\n",
    "            BasicBlockResNet(sizes[1], sizes[1], False),\n",
    "            BasicBlockResNet(sizes[1], sizes[2], True),\n",
    "            BasicBlockResNet(sizes[2], sizes[2], False),\n",
    "            BasicBlockResNet(sizes[2], sizes[3], True),\n",
    "            BasicBlockResNet(sizes[3], sizes[3], False)\n",
    "        )\n",
    "\n",
    "        self.final_layer = nn.Sequential(\n",
    "            nn.AdaptiveAvgPool2d((1, 1)),\n",
    "            nn.Flatten(),\n",
    "            nn.Linear(sizes[3], num_classes)\n",
    "        )\n",
    "\n",
    "    def forward(self, x):        \n",
    "        x = self.first_layer(x)\n",
    "        x = self.middle_layers(x)\n",
    "        x = self.final_layer(x)\n",
    "        return x"
   ]
  },
  {
   "cell_type": "code",
   "execution_count": 30,
   "metadata": {},
   "outputs": [
    {
     "output_type": "stream",
     "name": "stdout",
     "text": [
      "tensor([[ 0.4027, -0.0626,  0.1105, -0.1496, -0.1349,  0.1687, -0.0652, -0.2776,\n         -0.6095,  0.1788,  0.1973, -0.1409, -0.0910,  0.1431, -0.5600,  0.1399,\n         -0.2460,  0.1909,  0.0470,  0.3566, -0.2220,  0.3793,  0.3402, -0.1609]],\n       grad_fn=<AddmmBackward>)\n"
     ]
    }
   ],
   "source": [
    "network = ResNet18(3)\n",
    "dataset = CompCarDataset(True)\n",
    "img, lbl, spd = dataset.__getitem__(0)\n",
    "img = torch.unsqueeze(img, 0)\n",
    "final_lbl = network.forward(img)\n",
    "print(final_lbl)"
   ]
  },
  {
   "cell_type": "code",
   "execution_count": 27,
   "metadata": {},
   "outputs": [
    {
     "output_type": "stream",
     "name": "stdout",
     "text": [
      "ResNet18(\n  (first_layer): Sequential(\n    (0): Conv2d(3, 64, kernel_size=(7, 7), stride=(2, 2), padding=(3, 3))\n    (1): BatchNorm2d(64, eps=1e-05, momentum=0.1, affine=True, track_running_stats=True)\n    (2): ReLU()\n    (3): MaxPool2d(kernel_size=(3, 3), stride=(2, 2), padding=1, dilation=1, ceil_mode=False)\n  )\n  (middle_layers): Sequential(\n    (0): BasicBlockResNet(\n      (activation): ReLU()\n      (layers): Sequential(\n        (0): Conv2d(64, 64, kernel_size=(3, 3), stride=(1, 1), padding=(3, 3))\n        (1): BatchNorm2d(64, eps=1e-05, momentum=0.1, affine=True, track_running_stats=True)\n        (2): ReLU()\n        (3): Conv2d(64, 64, kernel_size=(3, 3), stride=(1, 1), padding=(3, 3))\n        (4): BatchNorm2d(64, eps=1e-05, momentum=0.1, affine=True, track_running_stats=True)\n      )\n      (resizing): Sequential(\n        (0): Conv2d(64, 64, kernel_size=(1, 1), stride=(1, 1))\n        (1): BatchNorm2d(64, eps=1e-05, momentum=0.1, affine=True, track_running_stats=True)\n      )\n    )\n    (1): BasicBlockResNet(\n      (activation): ReLU()\n      (layers): Sequential(\n        (0): Conv2d(64, 64, kernel_size=(3, 3), stride=(1, 1), padding=(3, 3))\n        (1): BatchNorm2d(64, eps=1e-05, momentum=0.1, affine=True, track_running_stats=True)\n        (2): ReLU()\n        (3): Conv2d(64, 64, kernel_size=(3, 3), stride=(1, 1), padding=(3, 3))\n        (4): BatchNorm2d(64, eps=1e-05, momentum=0.1, affine=True, track_running_stats=True)\n      )\n      (resizing): Sequential(\n        (0): Conv2d(64, 64, kernel_size=(1, 1), stride=(1, 1))\n        (1): BatchNorm2d(64, eps=1e-05, momentum=0.1, affine=True, track_running_stats=True)\n      )\n    )\n    (2): BasicBlockResNet(\n      (activation): ReLU()\n      (layers): Sequential(\n        (0): Conv2d(64, 128, kernel_size=(3, 3), stride=(1, 1), padding=(3, 3))\n        (1): BatchNorm2d(128, eps=1e-05, momentum=0.1, affine=True, track_running_stats=True)\n        (2): ReLU()\n        (3): Conv2d(128, 128, kernel_size=(3, 3), stride=(1, 1), padding=(3, 3))\n        (4): BatchNorm2d(128, eps=1e-05, momentum=0.1, affine=True, track_running_stats=True)\n      )\n      (resizing): Sequential(\n        (0): Conv2d(64, 128, kernel_size=(1, 1), stride=(1, 1))\n        (1): BatchNorm2d(128, eps=1e-05, momentum=0.1, affine=True, track_running_stats=True)\n      )\n    )\n    (3): BasicBlockResNet(\n      (activation): ReLU()\n      (layers): Sequential(\n        (0): Conv2d(128, 128, kernel_size=(3, 3), stride=(1, 1), padding=(3, 3))\n        (1): BatchNorm2d(128, eps=1e-05, momentum=0.1, affine=True, track_running_stats=True)\n        (2): ReLU()\n        (3): Conv2d(128, 128, kernel_size=(3, 3), stride=(1, 1), padding=(3, 3))\n        (4): BatchNorm2d(128, eps=1e-05, momentum=0.1, affine=True, track_running_stats=True)\n      )\n      (resizing): Sequential(\n        (0): Conv2d(128, 128, kernel_size=(1, 1), stride=(1, 1))\n        (1): BatchNorm2d(128, eps=1e-05, momentum=0.1, affine=True, track_running_stats=True)\n      )\n    )\n    (4): BasicBlockResNet(\n      (activation): ReLU()\n      (layers): Sequential(\n        (0): Conv2d(128, 256, kernel_size=(3, 3), stride=(1, 1), padding=(3, 3))\n        (1): BatchNorm2d(256, eps=1e-05, momentum=0.1, affine=True, track_running_stats=True)\n        (2): ReLU()\n        (3): Conv2d(256, 256, kernel_size=(3, 3), stride=(1, 1), padding=(3, 3))\n        (4): BatchNorm2d(256, eps=1e-05, momentum=0.1, affine=True, track_running_stats=True)\n      )\n      (resizing): Sequential(\n        (0): Conv2d(128, 256, kernel_size=(1, 1), stride=(1, 1))\n        (1): BatchNorm2d(256, eps=1e-05, momentum=0.1, affine=True, track_running_stats=True)\n      )\n    )\n    (5): BasicBlockResNet(\n      (activation): ReLU()\n      (layers): Sequential(\n        (0): Conv2d(256, 256, kernel_size=(3, 3), stride=(1, 1), padding=(3, 3))\n        (1): BatchNorm2d(256, eps=1e-05, momentum=0.1, affine=True, track_running_stats=True)\n        (2): ReLU()\n        (3): Conv2d(256, 256, kernel_size=(3, 3), stride=(1, 1), padding=(3, 3))\n        (4): BatchNorm2d(256, eps=1e-05, momentum=0.1, affine=True, track_running_stats=True)\n      )\n      (resizing): Sequential(\n        (0): Conv2d(256, 256, kernel_size=(1, 1), stride=(1, 1))\n        (1): BatchNorm2d(256, eps=1e-05, momentum=0.1, affine=True, track_running_stats=True)\n      )\n    )\n    (6): BasicBlockResNet(\n      (activation): ReLU()\n      (layers): Sequential(\n        (0): Conv2d(256, 512, kernel_size=(3, 3), stride=(1, 1), padding=(3, 3))\n        (1): BatchNorm2d(512, eps=1e-05, momentum=0.1, affine=True, track_running_stats=True)\n        (2): ReLU()\n        (3): Conv2d(512, 512, kernel_size=(3, 3), stride=(1, 1), padding=(3, 3))\n        (4): BatchNorm2d(512, eps=1e-05, momentum=0.1, affine=True, track_running_stats=True)\n      )\n      (resizing): Sequential(\n        (0): Conv2d(256, 512, kernel_size=(1, 1), stride=(1, 1))\n        (1): BatchNorm2d(512, eps=1e-05, momentum=0.1, affine=True, track_running_stats=True)\n      )\n    )\n    (7): BasicBlockResNet(\n      (activation): ReLU()\n      (layers): Sequential(\n        (0): Conv2d(512, 512, kernel_size=(3, 3), stride=(1, 1), padding=(3, 3))\n        (1): BatchNorm2d(512, eps=1e-05, momentum=0.1, affine=True, track_running_stats=True)\n        (2): ReLU()\n        (3): Conv2d(512, 512, kernel_size=(3, 3), stride=(1, 1), padding=(3, 3))\n        (4): BatchNorm2d(512, eps=1e-05, momentum=0.1, affine=True, track_running_stats=True)\n      )\n      (resizing): Sequential(\n        (0): Conv2d(512, 512, kernel_size=(1, 1), stride=(1, 1))\n        (1): BatchNorm2d(512, eps=1e-05, momentum=0.1, affine=True, track_running_stats=True)\n      )\n    )\n  )\n  (final_layer): Sequential(\n    (0): AdaptiveAvgPool2d(output_size=(1, 1))\n    (1): Flatten(start_dim=1, end_dim=-1)\n    (2): Linear(in_features=512, out_features=24, bias=True)\n  )\n)\n"
     ]
    }
   ],
   "source": [
    "print(network)"
   ]
  },
  {
   "cell_type": "code",
   "execution_count": 31,
   "metadata": {},
   "outputs": [
    {
     "output_type": "stream",
     "name": "stdout",
     "text": [
      "----------------------------------------------------------------\n        Layer (type)               Output Shape         Param #\n================================================================\n            Conv2d-1         [-1, 64, 112, 112]           9,472\n       BatchNorm2d-2         [-1, 64, 112, 112]             128\n              ReLU-3         [-1, 64, 112, 112]               0\n         MaxPool2d-4           [-1, 64, 56, 56]               0\n            Conv2d-5           [-1, 64, 56, 56]          36,928\n       BatchNorm2d-6           [-1, 64, 56, 56]             128\n              ReLU-7           [-1, 64, 56, 56]               0\n            Conv2d-8           [-1, 64, 56, 56]          36,928\n       BatchNorm2d-9           [-1, 64, 56, 56]             128\n             ReLU-10           [-1, 64, 56, 56]               0\n BasicBlockResNet-11           [-1, 64, 56, 56]               0\n           Conv2d-12           [-1, 64, 56, 56]          36,928\n      BatchNorm2d-13           [-1, 64, 56, 56]             128\n             ReLU-14           [-1, 64, 56, 56]               0\n           Conv2d-15           [-1, 64, 56, 56]          36,928\n      BatchNorm2d-16           [-1, 64, 56, 56]             128\n             ReLU-17           [-1, 64, 56, 56]               0\n BasicBlockResNet-18           [-1, 64, 56, 56]               0\n           Conv2d-19          [-1, 128, 56, 56]          73,856\n      BatchNorm2d-20          [-1, 128, 56, 56]             256\n             ReLU-21          [-1, 128, 56, 56]               0\n           Conv2d-22          [-1, 128, 56, 56]         147,584\n      BatchNorm2d-23          [-1, 128, 56, 56]             256\n           Conv2d-24          [-1, 128, 56, 56]           8,320\n      BatchNorm2d-25          [-1, 128, 56, 56]             256\n             ReLU-26          [-1, 128, 56, 56]               0\n BasicBlockResNet-27          [-1, 128, 56, 56]               0\n           Conv2d-28          [-1, 128, 56, 56]         147,584\n      BatchNorm2d-29          [-1, 128, 56, 56]             256\n             ReLU-30          [-1, 128, 56, 56]               0\n           Conv2d-31          [-1, 128, 56, 56]         147,584\n      BatchNorm2d-32          [-1, 128, 56, 56]             256\n             ReLU-33          [-1, 128, 56, 56]               0\n BasicBlockResNet-34          [-1, 128, 56, 56]               0\n           Conv2d-35          [-1, 256, 56, 56]         295,168\n      BatchNorm2d-36          [-1, 256, 56, 56]             512\n             ReLU-37          [-1, 256, 56, 56]               0\n           Conv2d-38          [-1, 256, 56, 56]         590,080\n      BatchNorm2d-39          [-1, 256, 56, 56]             512\n           Conv2d-40          [-1, 256, 56, 56]          33,024\n      BatchNorm2d-41          [-1, 256, 56, 56]             512\n             ReLU-42          [-1, 256, 56, 56]               0\n BasicBlockResNet-43          [-1, 256, 56, 56]               0\n           Conv2d-44          [-1, 256, 56, 56]         590,080\n      BatchNorm2d-45          [-1, 256, 56, 56]             512\n             ReLU-46          [-1, 256, 56, 56]               0\n           Conv2d-47          [-1, 256, 56, 56]         590,080\n      BatchNorm2d-48          [-1, 256, 56, 56]             512\n             ReLU-49          [-1, 256, 56, 56]               0\n BasicBlockResNet-50          [-1, 256, 56, 56]               0\n           Conv2d-51          [-1, 512, 56, 56]       1,180,160\n      BatchNorm2d-52          [-1, 512, 56, 56]           1,024\n             ReLU-53          [-1, 512, 56, 56]               0\n           Conv2d-54          [-1, 512, 56, 56]       2,359,808\n      BatchNorm2d-55          [-1, 512, 56, 56]           1,024\n           Conv2d-56          [-1, 512, 56, 56]         131,584\n      BatchNorm2d-57          [-1, 512, 56, 56]           1,024\n             ReLU-58          [-1, 512, 56, 56]               0\n BasicBlockResNet-59          [-1, 512, 56, 56]               0\n           Conv2d-60          [-1, 512, 56, 56]       2,359,808\n      BatchNorm2d-61          [-1, 512, 56, 56]           1,024\n             ReLU-62          [-1, 512, 56, 56]               0\n           Conv2d-63          [-1, 512, 56, 56]       2,359,808\n      BatchNorm2d-64          [-1, 512, 56, 56]           1,024\n             ReLU-65          [-1, 512, 56, 56]               0\n BasicBlockResNet-66          [-1, 512, 56, 56]               0\nAdaptiveAvgPool2d-67            [-1, 512, 1, 1]               0\n          Flatten-68                  [-1, 512]               0\n           Linear-69                   [-1, 24]          12,312\n================================================================\nTotal params: 11,193,624\nTrainable params: 11,193,624\nNon-trainable params: 0\n----------------------------------------------------------------\nInput size (MB): 0.57\nForward/backward pass size (MB): 384.35\nParams size (MB): 42.70\nEstimated Total Size (MB): 427.63\n----------------------------------------------------------------\n"
     ]
    }
   ],
   "source": [
    "summary(network, (3, 224, 224))"
   ]
  },
  {
   "cell_type": "code",
   "execution_count": null,
   "metadata": {},
   "outputs": [],
   "source": []
  }
 ]
}